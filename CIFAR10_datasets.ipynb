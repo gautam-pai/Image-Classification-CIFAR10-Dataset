{
  "nbformat": 4,
  "nbformat_minor": 0,
  "metadata": {
    "colab": {
      "provenance": [],
      "authorship_tag": "ABX9TyMYbBtA2P/aXogMgcc4AeP1",
      "include_colab_link": true
    },
    "kernelspec": {
      "name": "python3",
      "display_name": "Python 3"
    },
    "language_info": {
      "name": "python"
    }
  },
  "cells": [
    {
      "cell_type": "markdown",
      "metadata": {
        "id": "view-in-github",
        "colab_type": "text"
      },
      "source": [
        "<a href=\"https://colab.research.google.com/github/gautam-pai/Image-Classification-CIFAR10-Dataset/blob/main/CIFAR10_datasets.ipynb\" target=\"_parent\"><img src=\"https://colab.research.google.com/assets/colab-badge.svg\" alt=\"Open In Colab\"/></a>"
      ]
    },
    {
      "cell_type": "markdown",
      "source": [
        "## Import libraries"
      ],
      "metadata": {
        "id": "22qg1iADAMsF"
      }
    },
    {
      "cell_type": "code",
      "execution_count": 1,
      "metadata": {
        "id": "rkFy_91Q_2jK"
      },
      "outputs": [],
      "source": [
        "import pandas as pd\n",
        "import numpy as np\n",
        "from sklearn.metrics import confusion_matrix\n",
        "import matplotlib.pyplot as plt\n",
        "\n",
        "%matplotlib inline"
      ]
    },
    {
      "cell_type": "code",
      "source": [
        "import torch\n",
        "import torch.nn as nn\n",
        "from torchvision import datasets,transforms\n",
        "import torch.nn.functional as F\n",
        "from torch.utils.data import DataLoader"
      ],
      "metadata": {
        "id": "Mhj4HJv_AMNn"
      },
      "execution_count": 2,
      "outputs": []
    },
    {
      "cell_type": "markdown",
      "source": [
        "## Import Datasets"
      ],
      "metadata": {
        "id": "u-J1b89iDb36"
      }
    },
    {
      "cell_type": "code",
      "source": [
        "train_data=datasets.CIFAR10(root=\"./data\",train=True,transform=transforms.ToTensor(),download=True)\n",
        "test_data=datasets.CIFAR10(root=\"./data\",train=False,transform=transforms.ToTensor(),download=True)"
      ],
      "metadata": {
        "colab": {
          "base_uri": "https://localhost:8080/"
        },
        "id": "JTw_qF3xBdiU",
        "outputId": "2f82756a-8aab-4acf-f595-1a2d34a5d70c"
      },
      "execution_count": 3,
      "outputs": [
        {
          "output_type": "stream",
          "name": "stdout",
          "text": [
            "Files already downloaded and verified\n",
            "Files already downloaded and verified\n"
          ]
        }
      ]
    },
    {
      "cell_type": "code",
      "source": [
        "train_data"
      ],
      "metadata": {
        "colab": {
          "base_uri": "https://localhost:8080/"
        },
        "id": "TJGBZEobBdex",
        "outputId": "a7892250-9679-4196-fade-b170d02270b6"
      },
      "execution_count": 4,
      "outputs": [
        {
          "output_type": "execute_result",
          "data": {
            "text/plain": [
              "Dataset CIFAR10\n",
              "    Number of datapoints: 50000\n",
              "    Root location: ./data\n",
              "    Split: Train\n",
              "    StandardTransform\n",
              "Transform: ToTensor()"
            ]
          },
          "metadata": {},
          "execution_count": 4
        }
      ]
    },
    {
      "cell_type": "code",
      "source": [
        "test_data"
      ],
      "metadata": {
        "colab": {
          "base_uri": "https://localhost:8080/"
        },
        "id": "a9kcR4feBdbw",
        "outputId": "c5a358cf-c688-4b4a-e699-7d53525e334f"
      },
      "execution_count": 5,
      "outputs": [
        {
          "output_type": "execute_result",
          "data": {
            "text/plain": [
              "Dataset CIFAR10\n",
              "    Number of datapoints: 10000\n",
              "    Root location: ./data\n",
              "    Split: Test\n",
              "    StandardTransform\n",
              "Transform: ToTensor()"
            ]
          },
          "metadata": {},
          "execution_count": 5
        }
      ]
    },
    {
      "cell_type": "code",
      "source": [
        "class_names = train_data.classes"
      ],
      "metadata": {
        "id": "IKb8ip53JcD-"
      },
      "execution_count": 6,
      "outputs": []
    },
    {
      "cell_type": "markdown",
      "source": [
        "## Data Exploration"
      ],
      "metadata": {
        "id": "NjulVQmOIB4W"
      }
    },
    {
      "cell_type": "code",
      "source": [
        "print(train_data[0][0].shape)\n",
        "sample_image=train_data[0][0]\n",
        "sample_tag=train_data[0][1]\n",
        "sample_image=sample_image.permute(1,2,0)\n",
        "plt.imshow(sample_image)\n",
        "plt.title(class_names[sample_tag])"
      ],
      "metadata": {
        "colab": {
          "base_uri": "https://localhost:8080/",
          "height": 488
        },
        "id": "tzhQoiBbBdY9",
        "outputId": "8d2120ca-af13-4bbf-b6be-4fba4289a934"
      },
      "execution_count": 7,
      "outputs": [
        {
          "output_type": "stream",
          "name": "stdout",
          "text": [
            "torch.Size([3, 32, 32])\n"
          ]
        },
        {
          "output_type": "execute_result",
          "data": {
            "text/plain": [
              "Text(0.5, 1.0, 'frog')"
            ]
          },
          "metadata": {},
          "execution_count": 7
        },
        {
          "output_type": "display_data",
          "data": {
            "text/plain": [
              "<Figure size 640x480 with 1 Axes>"
            ],
            "image/png": "[encoded data removed]"
          },
          "metadata": {}
        }
      ]
    },
    {
      "cell_type": "code",
      "source": [
        "print(train_data[100][0].shape)\n",
        "sample_image=train_data[100][0]\n",
        "sample_tag=train_data[100][1]\n",
        "sample_image=sample_image.permute(1,2,0)\n",
        "plt.imshow(sample_image)\n",
        "plt.title(class_names[sample_tag])"
      ],
      "metadata": {
        "colab": {
          "base_uri": "https://localhost:8080/",
          "height": 488
        },
        "id": "fcMfK94IBdWL",
        "outputId": "cc759ad6-d242-4271-d999-b359f59bf84e"
      },
      "execution_count": 8,
      "outputs": [
        {
          "output_type": "stream",
          "name": "stdout",
          "text": [
            "torch.Size([3, 32, 32])\n"
          ]
        },
        {
          "output_type": "execute_result",
          "data": {
            "text/plain": [
              "Text(0.5, 1.0, 'ship')"
            ]
          },
          "metadata": {},
          "execution_count": 8
        },
        {
          "output_type": "display_data",
          "data": {
            "text/plain": [
              "<Figure size 640x480 with 1 Axes>"
            ],
            "image/png": "[encoded data removed]"
          },
          "metadata": {}
        }
      ]
    },
    {
      "cell_type": "code",
      "source": [
        "print(train_data[500][0].shape)\n",
        "sample_image=train_data[500][0]\n",
        "sample_tag=train_data[500][1]\n",
        "sample_image=sample_image.permute(1,2,0)\n",
        "plt.imshow(sample_image)\n",
        "plt.title(class_names[sample_tag])"
      ],
      "metadata": {
        "colab": {
          "base_uri": "https://localhost:8080/",
          "height": 488
        },
        "id": "EOObBidlBdTO",
        "outputId": "8f4904cf-58f7-4cc6-c93e-e845781f3dd6"
      },
      "execution_count": 9,
      "outputs": [
        {
          "output_type": "stream",
          "name": "stdout",
          "text": [
            "torch.Size([3, 32, 32])\n"
          ]
        },
        {
          "output_type": "execute_result",
          "data": {
            "text/plain": [
              "Text(0.5, 1.0, 'dog')"
            ]
          },
          "metadata": {},
          "execution_count": 9
        },
        {
          "output_type": "display_data",
          "data": {
            "text/plain": [
              "<Figure size 640x480 with 1 Axes>"
            ],
            "image/png": "[encoded data removed]"
          },
          "metadata": {}
        }
      ]
    },
    {
      "cell_type": "code",
      "source": [
        "print(train_data[5000][0].shape)\n",
        "sample_image=train_data[5000][0]\n",
        "sample_tag=train_data[5000][1]\n",
        "sample_image=sample_image.permute(1,2,0)\n",
        "plt.imshow(sample_image)\n",
        "plt.title(class_names[sample_tag])"
      ],
      "metadata": {
        "colab": {
          "base_uri": "https://localhost:8080/",
          "height": 488
        },
        "id": "SVszwrzrBdQJ",
        "outputId": "0ed1f593-53c4-46d5-e5e8-b7fe32c0825b"
      },
      "execution_count": 10,
      "outputs": [
        {
          "output_type": "stream",
          "name": "stdout",
          "text": [
            "torch.Size([3, 32, 32])\n"
          ]
        },
        {
          "output_type": "execute_result",
          "data": {
            "text/plain": [
              "Text(0.5, 1.0, 'frog')"
            ]
          },
          "metadata": {},
          "execution_count": 10
        },
        {
          "output_type": "display_data",
          "data": {
            "text/plain": [
              "<Figure size 640x480 with 1 Axes>"
            ],
            "image/png": "[encoded data removed]"
          },
          "metadata": {}
        }
      ]
    },
    {
      "cell_type": "markdown",
      "source": [
        "## Creating batches of datasets"
      ],
      "metadata": {
        "id": "7XYKOE1UMB6O"
      }
    },
    {
      "cell_type": "code",
      "source": [
        "## Creating a small batch size of 10\n",
        "train_loader=DataLoader(train_data,batch_size=10,shuffle=False)\n",
        "test_loader=DataLoader(test_data,batch_size=10, shuffle=False)"
      ],
      "metadata": {
        "id": "4HfIRmJQMHS1"
      },
      "execution_count": 11,
      "outputs": []
    },
    {
      "cell_type": "markdown",
      "source": [
        "## Defining the CNN Model"
      ],
      "metadata": {
        "id": "hvsKE9LzKYlk"
      }
    },
    {
      "cell_type": "code",
      "source": [
        "class Cifar10Model(nn.Module):\n",
        "  def __init__(self):\n",
        "    super().__init__()\n",
        "    ## Conv Layers\n",
        "    self.conv1=nn.Conv2d(in_channels=3,out_channels=10,kernel_size=3,stride=1)\n",
        "    self.conv2=nn.Conv2d(in_channels=10,out_channels=20,kernel_size=3,stride=1)\n",
        "    self.conv3=nn.Conv2d(in_channels=20,out_channels=40,kernel_size=3,stride=1)\n",
        "\n",
        "    ## Fully Connected Layers\n",
        "    self.fc1=nn.Linear(2*2*40,80)\n",
        "    self.fc2=nn.Linear(80,40)\n",
        "    self.fc3=nn.Linear(40,10)\n",
        "\n",
        "\n",
        "  def forward(self,X):\n",
        "    # ReLU activation function and Max Pooling layer\n",
        "    X=F.relu(self.conv1(X))\n",
        "    X=F.max_pool2d(X,kernel_size=2,stride=2)\n",
        "    X=F.relu(self.conv2(X))\n",
        "    X=F.max_pool2d(X,kernel_size=2,stride=2)\n",
        "    X=F.relu(self.conv3(X))\n",
        "    X=F.max_pool2d(X,kernel_size=2,stride=2)\n",
        "\n",
        "    # Flattening\n",
        "    X=X.view(-1,2*2*40)\n",
        "\n",
        "    ## ANN layers\n",
        "    X=F.relu(self.fc1(X))\n",
        "    X=F.relu(self.fc2(X))\n",
        "    X=self.fc3(X)\n",
        "\n",
        "    # retunrn the value using log softmax function\n",
        "    return F.log_softmax(X,dim=1)\n",
        "\n"
      ],
      "metadata": {
        "id": "UO-frmePBdNc"
      },
      "execution_count": 12,
      "outputs": []
    },
    {
      "cell_type": "code",
      "source": [
        "Detector=Cifar10Model()"
      ],
      "metadata": {
        "id": "2fYvy96XKgqL"
      },
      "execution_count": 13,
      "outputs": []
    },
    {
      "cell_type": "code",
      "source": [
        "Detector"
      ],
      "metadata": {
        "id": "AiG6wkRuKgne",
        "colab": {
          "base_uri": "https://localhost:8080/"
        },
        "outputId": "cf2cfc08-e864-4736-e2fd-c1e9663da6b3"
      },
      "execution_count": 14,
      "outputs": [
        {
          "output_type": "execute_result",
          "data": {
            "text/plain": [
              "Cifar10Model(\n",
              "  (conv1): Conv2d(3, 10, kernel_size=(3, 3), stride=(1, 1))\n",
              "  (conv2): Conv2d(10, 20, kernel_size=(3, 3), stride=(1, 1))\n",
              "  (conv3): Conv2d(20, 40, kernel_size=(3, 3), stride=(1, 1))\n",
              "  (fc1): Linear(in_features=160, out_features=80, bias=True)\n",
              "  (fc2): Linear(in_features=80, out_features=40, bias=True)\n",
              "  (fc3): Linear(in_features=40, out_features=10, bias=True)\n",
              ")"
            ]
          },
          "metadata": {},
          "execution_count": 14
        }
      ]
    },
    {
      "cell_type": "code",
      "source": [
        "\n",
        "## Loss Function optimizer\n",
        "criterion=nn.CrossEntropyLoss()\n",
        "optimizer=torch.optim.Adam(Detector.parameters(),lr=0.001)"
      ],
      "metadata": {
        "id": "r6Jx6Is_Kgkz"
      },
      "execution_count": 15,
      "outputs": []
    },
    {
      "cell_type": "markdown",
      "source": [
        "## Training the  model"
      ],
      "metadata": {
        "id": "Gl-a2z7KLJBq"
      }
    },
    {
      "cell_type": "code",
      "source": [
        "# Record the training time\n",
        "import time\n",
        "start_time=time.time()\n",
        "epochs=20\n",
        "# tracking the losses & correct ones\n",
        "train_losses=[]\n",
        "test_losses=[]\n",
        "train_correct=[]\n",
        "test_correct=[]\n",
        "losses=[]\n",
        "for i in range(epochs):\n",
        "  trn_corr=0\n",
        "  tst_corr=0\n",
        "\n",
        "  #training\n",
        "  for b,(X_Train,y_train) in enumerate(train_loader):\n",
        "    b+=1\n",
        "    y_pred=Detector(X_Train)\n",
        "    loss=criterion(y_pred,y_train)\n",
        "    losses.append(loss)\n",
        "    predicted=torch.max(y_pred.data,1)[1]\n",
        "    batch_corr=(predicted==y_train).sum().item()\n",
        "    trn_corr+=batch_corr\n",
        "\n",
        "    #update weights\n",
        "    optimizer.zero_grad()\n",
        "    loss.backward()\n",
        "    optimizer.step()\n",
        "\n",
        "    if b%500==0:\n",
        "      print(f\"Epochs: {i+1} Batch: {b} Loss: {loss.item()}\")\n",
        "  train_losses.append(loss.item())\n",
        "  train_correct.append(trn_corr/len(train_data))\n",
        "\n",
        "  # Testing\n",
        "\n",
        "  tst_corr=0\n",
        "  with torch.no_grad():\n",
        "    for b,(X_Test,y_test) in enumerate(test_loader):\n",
        "      y_val=Detector(X_Test)\n",
        "      predicted=torch.max(y_val.data,1)[1]\n",
        "      tst_corr+=(predicted==y_test).sum().item()\n",
        "  loss=criterion(y_val,y_test)\n",
        "\n",
        "  test_losses.append(loss.item())\n",
        "  test_correct.append(tst_corr/len(test_data))\n",
        "\n",
        "\n",
        "current_time=time.time()\n",
        "total=current_time-start_time"
      ],
      "metadata": {
        "id": "Kv2haDHfKgiE",
        "colab": {
          "base_uri": "https://localhost:8080/"
        },
        "outputId": "1399e59e-172d-4d19-dac0-3308933bb471"
      },
      "execution_count": 16,
      "outputs": [
        {
          "output_type": "stream",
          "name": "stdout",
          "text": [
            "Epochs: 1 Batch: 500 Loss: 2.1060938835144043\n",
            "Epochs: 1 Batch: 1000 Loss: 1.7522914409637451\n",
            "Epochs: 1 Batch: 1500 Loss: 2.2432310581207275\n",
            "Epochs: 1 Batch: 2000 Loss: 1.6840404272079468\n",
            "Epochs: 1 Batch: 2500 Loss: 1.6130821704864502\n",
            "Epochs: 1 Batch: 3000 Loss: 1.2582757472991943\n",
            "Epochs: 1 Batch: 3500 Loss: 1.6924927234649658\n",
            "Epochs: 1 Batch: 4000 Loss: 1.8928182125091553\n",
            "Epochs: 1 Batch: 4500 Loss: 2.349870204925537\n",
            "Epochs: 1 Batch: 5000 Loss: 2.307222366333008\n",
            "Epochs: 2 Batch: 500 Loss: 1.352423906326294\n",
            "Epochs: 2 Batch: 1000 Loss: 1.539705514907837\n",
            "Epochs: 2 Batch: 1500 Loss: 1.5749419927597046\n",
            "Epochs: 2 Batch: 2000 Loss: 1.0913708209991455\n",
            "Epochs: 2 Batch: 2500 Loss: 1.2923935651779175\n",
            "Epochs: 2 Batch: 3000 Loss: 1.1449522972106934\n",
            "Epochs: 2 Batch: 3500 Loss: 1.5184876918792725\n",
            "Epochs: 2 Batch: 4000 Loss: 1.5138418674468994\n",
            "Epochs: 2 Batch: 4500 Loss: 2.13165545463562\n",
            "Epochs: 2 Batch: 5000 Loss: 2.3755900859832764\n",
            "Epochs: 3 Batch: 500 Loss: 1.116648554801941\n",
            "Epochs: 3 Batch: 1000 Loss: 1.375909447669983\n",
            "Epochs: 3 Batch: 1500 Loss: 1.634474515914917\n",
            "Epochs: 3 Batch: 2000 Loss: 1.0688239336013794\n",
            "Epochs: 3 Batch: 2500 Loss: 1.235457181930542\n",
            "Epochs: 3 Batch: 3000 Loss: 1.036405324935913\n",
            "Epochs: 3 Batch: 3500 Loss: 1.3032808303833008\n",
            "Epochs: 3 Batch: 4000 Loss: 1.3425006866455078\n",
            "Epochs: 3 Batch: 4500 Loss: 2.0937585830688477\n",
            "Epochs: 3 Batch: 5000 Loss: 2.307300567626953\n",
            "Epochs: 4 Batch: 500 Loss: 1.0223273038864136\n",
            "Epochs: 4 Batch: 1000 Loss: 1.383847951889038\n",
            "Epochs: 4 Batch: 1500 Loss: 1.64179265499115\n",
            "Epochs: 4 Batch: 2000 Loss: 0.8924654126167297\n",
            "Epochs: 4 Batch: 2500 Loss: 1.2995654344558716\n",
            "Epochs: 4 Batch: 3000 Loss: 0.8827525973320007\n",
            "Epochs: 4 Batch: 3500 Loss: 1.241147518157959\n",
            "Epochs: 4 Batch: 4000 Loss: 1.2162048816680908\n",
            "Epochs: 4 Batch: 4500 Loss: 2.028369426727295\n",
            "Epochs: 4 Batch: 5000 Loss: 2.1950693130493164\n",
            "Epochs: 5 Batch: 500 Loss: 0.9586607813835144\n",
            "Epochs: 5 Batch: 1000 Loss: 1.258574366569519\n",
            "Epochs: 5 Batch: 1500 Loss: 1.631817102432251\n",
            "Epochs: 5 Batch: 2000 Loss: 0.8059883117675781\n",
            "Epochs: 5 Batch: 2500 Loss: 1.0735807418823242\n",
            "Epochs: 5 Batch: 3000 Loss: 0.7755775451660156\n",
            "Epochs: 5 Batch: 3500 Loss: 1.254032850265503\n",
            "Epochs: 5 Batch: 4000 Loss: 1.0852839946746826\n",
            "Epochs: 5 Batch: 4500 Loss: 1.8576507568359375\n",
            "Epochs: 5 Batch: 5000 Loss: 2.1966347694396973\n",
            "Epochs: 6 Batch: 500 Loss: 0.9923213124275208\n",
            "Epochs: 6 Batch: 1000 Loss: 1.3212716579437256\n",
            "Epochs: 6 Batch: 1500 Loss: 1.561458706855774\n",
            "Epochs: 6 Batch: 2000 Loss: 0.6332384347915649\n",
            "Epochs: 6 Batch: 2500 Loss: 1.0781099796295166\n",
            "Epochs: 6 Batch: 3000 Loss: 0.7975378036499023\n",
            "Epochs: 6 Batch: 3500 Loss: 1.2789279222488403\n",
            "Epochs: 6 Batch: 4000 Loss: 1.012939691543579\n",
            "Epochs: 6 Batch: 4500 Loss: 1.6654716730117798\n",
            "Epochs: 6 Batch: 5000 Loss: 2.1067004203796387\n",
            "Epochs: 7 Batch: 500 Loss: 0.9228132963180542\n",
            "Epochs: 7 Batch: 1000 Loss: 1.2636346817016602\n",
            "Epochs: 7 Batch: 1500 Loss: 1.5347015857696533\n",
            "Epochs: 7 Batch: 2000 Loss: 0.5952273011207581\n",
            "Epochs: 7 Batch: 2500 Loss: 0.9903591275215149\n",
            "Epochs: 7 Batch: 3000 Loss: 0.7753044962882996\n",
            "Epochs: 7 Batch: 3500 Loss: 1.242936372756958\n",
            "Epochs: 7 Batch: 4000 Loss: 0.7781347632408142\n",
            "Epochs: 7 Batch: 4500 Loss: 1.5884345769882202\n",
            "Epochs: 7 Batch: 5000 Loss: 2.048973798751831\n",
            "Epochs: 8 Batch: 500 Loss: 0.8520382046699524\n",
            "Epochs: 8 Batch: 1000 Loss: 1.1052038669586182\n",
            "Epochs: 8 Batch: 1500 Loss: 1.4107320308685303\n",
            "Epochs: 8 Batch: 2000 Loss: 0.5477358102798462\n",
            "Epochs: 8 Batch: 2500 Loss: 1.017500638961792\n",
            "Epochs: 8 Batch: 3000 Loss: 0.8534306287765503\n",
            "Epochs: 8 Batch: 3500 Loss: 1.1685386896133423\n",
            "Epochs: 8 Batch: 4000 Loss: 0.728182315826416\n",
            "Epochs: 8 Batch: 4500 Loss: 1.5516719818115234\n",
            "Epochs: 8 Batch: 5000 Loss: 2.1907496452331543\n",
            "Epochs: 9 Batch: 500 Loss: 0.8190902471542358\n",
            "Epochs: 9 Batch: 1000 Loss: 1.1232144832611084\n",
            "Epochs: 9 Batch: 1500 Loss: 1.433960199356079\n",
            "Epochs: 9 Batch: 2000 Loss: 0.4766765534877777\n",
            "Epochs: 9 Batch: 2500 Loss: 0.8982378244400024\n",
            "Epochs: 9 Batch: 3000 Loss: 0.7847608923912048\n",
            "Epochs: 9 Batch: 3500 Loss: 1.2432749271392822\n",
            "Epochs: 9 Batch: 4000 Loss: 0.7194893956184387\n",
            "Epochs: 9 Batch: 4500 Loss: 1.424355387687683\n",
            "Epochs: 9 Batch: 5000 Loss: 1.881860375404358\n",
            "Epochs: 10 Batch: 500 Loss: 0.8468427658081055\n",
            "Epochs: 10 Batch: 1000 Loss: 1.0437411069869995\n",
            "Epochs: 10 Batch: 1500 Loss: 1.3582775592803955\n",
            "Epochs: 10 Batch: 2000 Loss: 0.5065405964851379\n",
            "Epochs: 10 Batch: 2500 Loss: 0.863966166973114\n",
            "Epochs: 10 Batch: 3000 Loss: 0.5387943387031555\n",
            "Epochs: 10 Batch: 3500 Loss: 1.3163809776306152\n",
            "Epochs: 10 Batch: 4000 Loss: 0.7448819875717163\n",
            "Epochs: 10 Batch: 4500 Loss: 1.3258861303329468\n",
            "Epochs: 10 Batch: 5000 Loss: 1.8128654956817627\n",
            "Epochs: 11 Batch: 500 Loss: 0.8335119485855103\n",
            "Epochs: 11 Batch: 1000 Loss: 1.2829631567001343\n",
            "Epochs: 11 Batch: 1500 Loss: 1.3450723886489868\n",
            "Epochs: 11 Batch: 2000 Loss: 0.47103792428970337\n",
            "Epochs: 11 Batch: 2500 Loss: 0.7892744541168213\n",
            "Epochs: 11 Batch: 3000 Loss: 0.5565202236175537\n",
            "Epochs: 11 Batch: 3500 Loss: 1.2646234035491943\n",
            "Epochs: 11 Batch: 4000 Loss: 0.7269052267074585\n",
            "Epochs: 11 Batch: 4500 Loss: 1.1912729740142822\n",
            "Epochs: 11 Batch: 5000 Loss: 1.8929319381713867\n",
            "Epochs: 12 Batch: 500 Loss: 0.7992275953292847\n",
            "Epochs: 12 Batch: 1000 Loss: 1.2539715766906738\n",
            "Epochs: 12 Batch: 1500 Loss: 1.4816850423812866\n",
            "Epochs: 12 Batch: 2000 Loss: 0.44572392106056213\n",
            "Epochs: 12 Batch: 2500 Loss: 0.7035056352615356\n",
            "Epochs: 12 Batch: 3000 Loss: 0.5159963369369507\n",
            "Epochs: 12 Batch: 3500 Loss: 1.3997219800949097\n",
            "Epochs: 12 Batch: 4000 Loss: 0.7539238929748535\n",
            "Epochs: 12 Batch: 4500 Loss: 1.1429908275604248\n",
            "Epochs: 12 Batch: 5000 Loss: 2.0569469928741455\n",
            "Epochs: 13 Batch: 500 Loss: 0.8766747713088989\n",
            "Epochs: 13 Batch: 1000 Loss: 1.2505477666854858\n",
            "Epochs: 13 Batch: 1500 Loss: 1.336254358291626\n",
            "Epochs: 13 Batch: 2000 Loss: 0.5211613774299622\n",
            "Epochs: 13 Batch: 2500 Loss: 0.7418184280395508\n",
            "Epochs: 13 Batch: 3000 Loss: 0.465676486492157\n",
            "Epochs: 13 Batch: 3500 Loss: 1.283576250076294\n",
            "Epochs: 13 Batch: 4000 Loss: 0.7681149244308472\n",
            "Epochs: 13 Batch: 4500 Loss: 1.0814895629882812\n",
            "Epochs: 13 Batch: 5000 Loss: 2.015282392501831\n",
            "Epochs: 14 Batch: 500 Loss: 0.7750771641731262\n",
            "Epochs: 14 Batch: 1000 Loss: 1.304695963859558\n",
            "Epochs: 14 Batch: 1500 Loss: 1.2690653800964355\n",
            "Epochs: 14 Batch: 2000 Loss: 0.43790140748023987\n",
            "Epochs: 14 Batch: 2500 Loss: 0.793563723564148\n",
            "Epochs: 14 Batch: 3000 Loss: 0.4320320188999176\n",
            "Epochs: 14 Batch: 3500 Loss: 1.3809974193572998\n",
            "Epochs: 14 Batch: 4000 Loss: 0.6745381355285645\n",
            "Epochs: 14 Batch: 4500 Loss: 1.1845639944076538\n",
            "Epochs: 14 Batch: 5000 Loss: 1.8740463256835938\n",
            "Epochs: 15 Batch: 500 Loss: 0.6772834062576294\n",
            "Epochs: 15 Batch: 1000 Loss: 1.3176243305206299\n",
            "Epochs: 15 Batch: 1500 Loss: 1.455592155456543\n",
            "Epochs: 15 Batch: 2000 Loss: 0.4186438024044037\n",
            "Epochs: 15 Batch: 2500 Loss: 0.7528159618377686\n",
            "Epochs: 15 Batch: 3000 Loss: 0.46014270186424255\n",
            "Epochs: 15 Batch: 3500 Loss: 1.3780770301818848\n",
            "Epochs: 15 Batch: 4000 Loss: 0.7461568713188171\n",
            "Epochs: 15 Batch: 4500 Loss: 1.2200758457183838\n",
            "Epochs: 15 Batch: 5000 Loss: 1.8288309574127197\n",
            "Epochs: 16 Batch: 500 Loss: 0.6186709403991699\n",
            "Epochs: 16 Batch: 1000 Loss: 1.4803471565246582\n",
            "Epochs: 16 Batch: 1500 Loss: 1.2555944919586182\n",
            "Epochs: 16 Batch: 2000 Loss: 0.42100077867507935\n",
            "Epochs: 16 Batch: 2500 Loss: 0.940078616142273\n",
            "Epochs: 16 Batch: 3000 Loss: 0.4173436760902405\n",
            "Epochs: 16 Batch: 3500 Loss: 1.366865873336792\n",
            "Epochs: 16 Batch: 4000 Loss: 0.6161587834358215\n",
            "Epochs: 16 Batch: 4500 Loss: 1.0954935550689697\n",
            "Epochs: 16 Batch: 5000 Loss: 1.773929238319397\n",
            "Epochs: 17 Batch: 500 Loss: 0.6431429386138916\n",
            "Epochs: 17 Batch: 1000 Loss: 1.2803162336349487\n",
            "Epochs: 17 Batch: 1500 Loss: 1.2979052066802979\n",
            "Epochs: 17 Batch: 2000 Loss: 0.4808666706085205\n",
            "Epochs: 17 Batch: 2500 Loss: 0.7125576734542847\n",
            "Epochs: 17 Batch: 3000 Loss: 0.4765498638153076\n",
            "Epochs: 17 Batch: 3500 Loss: 1.4632207155227661\n",
            "Epochs: 17 Batch: 4000 Loss: 0.7074514031410217\n",
            "Epochs: 17 Batch: 4500 Loss: 1.0490634441375732\n",
            "Epochs: 17 Batch: 5000 Loss: 1.9685777425765991\n",
            "Epochs: 18 Batch: 500 Loss: 0.6646292209625244\n",
            "Epochs: 18 Batch: 1000 Loss: 1.1673145294189453\n",
            "Epochs: 18 Batch: 1500 Loss: 1.3057000637054443\n",
            "Epochs: 18 Batch: 2000 Loss: 0.43418169021606445\n",
            "Epochs: 18 Batch: 2500 Loss: 0.8507450819015503\n",
            "Epochs: 18 Batch: 3000 Loss: 0.5095806121826172\n",
            "Epochs: 18 Batch: 3500 Loss: 1.4375430345535278\n",
            "Epochs: 18 Batch: 4000 Loss: 0.7308316230773926\n",
            "Epochs: 18 Batch: 4500 Loss: 1.0903345346450806\n",
            "Epochs: 18 Batch: 5000 Loss: 2.0747287273406982\n",
            "Epochs: 19 Batch: 500 Loss: 0.660824179649353\n",
            "Epochs: 19 Batch: 1000 Loss: 1.1276135444641113\n",
            "Epochs: 19 Batch: 1500 Loss: 1.244721531867981\n",
            "Epochs: 19 Batch: 2000 Loss: 0.39141255617141724\n",
            "Epochs: 19 Batch: 2500 Loss: 0.751530647277832\n",
            "Epochs: 19 Batch: 3000 Loss: 0.4715682566165924\n",
            "Epochs: 19 Batch: 3500 Loss: 1.5693368911743164\n",
            "Epochs: 19 Batch: 4000 Loss: 0.7102751731872559\n",
            "Epochs: 19 Batch: 4500 Loss: 1.0133124589920044\n",
            "Epochs: 19 Batch: 5000 Loss: 2.229977607727051\n",
            "Epochs: 20 Batch: 500 Loss: 0.6162195801734924\n",
            "Epochs: 20 Batch: 1000 Loss: 1.173762559890747\n",
            "Epochs: 20 Batch: 1500 Loss: 1.2866990566253662\n",
            "Epochs: 20 Batch: 2000 Loss: 0.42498964071273804\n",
            "Epochs: 20 Batch: 2500 Loss: 0.7018809914588928\n",
            "Epochs: 20 Batch: 3000 Loss: 0.41005071997642517\n",
            "Epochs: 20 Batch: 3500 Loss: 1.5368678569793701\n",
            "Epochs: 20 Batch: 4000 Loss: 0.7116725444793701\n",
            "Epochs: 20 Batch: 4500 Loss: 0.9816097021102905\n",
            "Epochs: 20 Batch: 5000 Loss: 2.2098381519317627\n"
          ]
        }
      ]
    },
    {
      "cell_type": "markdown",
      "source": [
        "## Loss Visualization"
      ],
      "metadata": {
        "id": "zoxmS1l_XiDB"
      }
    },
    {
      "cell_type": "code",
      "source": [
        "# Loss\n",
        "plt.plot(train_losses,label=\"Training loss\")\n",
        "plt.plot(test_losses,label=\"Testing loss\")\n",
        "plt.title(\"Loss at the end of each epoch\")\n",
        "plt.legend()"
      ],
      "metadata": {
        "colab": {
          "base_uri": "https://localhost:8080/",
          "height": 470
        },
        "id": "mSEDxm6Q_yN9",
        "outputId": "3568233d-5466-4c88-d55b-43d24e885721"
      },
      "execution_count": 17,
      "outputs": [
        {
          "output_type": "execute_result",
          "data": {
            "text/plain": [
              "<matplotlib.legend.Legend at 0x7acbf9369e10>"
            ]
          },
          "metadata": {},
          "execution_count": 17
        },
        {
          "output_type": "display_data",
          "data": {
            "text/plain": [
              "<Figure size 640x480 with 1 Axes>"
            ],
            "image/png": "[encoded data removed]"
          },
          "metadata": {}
        }
      ]
    },
    {
      "cell_type": "markdown",
      "source": [
        "## Accuracy Visualization"
      ],
      "metadata": {
        "id": "rtBGtj_dXt-4"
      }
    },
    {
      "cell_type": "code",
      "source": [
        "#graph the accuracy at the end of each epoch\n",
        "\n",
        "plt.plot([t for t in train_correct],label=\"Training Accuracy\")\n",
        "plt.plot([t for t in test_correct],label=\"Validation Accuracy\")\n",
        "plt.title(\"Accuracy at the end of each epoch\")\n",
        "plt.legend()"
      ],
      "metadata": {
        "id": "rLyBW9duJKMG",
        "colab": {
          "base_uri": "https://localhost:8080/",
          "height": 470
        },
        "outputId": "ab34f206-da8e-4c11-80bd-d640b06cd980"
      },
      "execution_count": 18,
      "outputs": [
        {
          "output_type": "execute_result",
          "data": {
            "text/plain": [
              "<matplotlib.legend.Legend at 0x7acbed466b50>"
            ]
          },
          "metadata": {},
          "execution_count": 18
        },
        {
          "output_type": "display_data",
          "data": {
            "text/plain": [
              "<Figure size 640x480 with 1 Axes>"
            ],
            "image/png": "[encoded data removed]"
          },
          "metadata": {}
        }
      ]
    },
    {
      "cell_type": "code",
      "source": [
        "train_correct"
      ],
      "metadata": {
        "colab": {
          "base_uri": "https://localhost:8080/"
        },
        "id": "7ONhhr6YqZ53",
        "outputId": "040b80d4-1b27-43c5-ec54-f506e485b94c"
      },
      "execution_count": 19,
      "outputs": [
        {
          "output_type": "execute_result",
          "data": {
            "text/plain": [
              "[0.33832,\n",
              " 0.4782,\n",
              " 0.53734,\n",
              " 0.57354,\n",
              " 0.59238,\n",
              " 0.60758,\n",
              " 0.61798,\n",
              " 0.62878,\n",
              " 0.63852,\n",
              " 0.64626,\n",
              " 0.6518,\n",
              " 0.65688,\n",
              " 0.66216,\n",
              " 0.6669,\n",
              " 0.67106,\n",
              " 0.67596,\n",
              " 0.67676,\n",
              " 0.68168,\n",
              " 0.6844,\n",
              " 0.6875]"
            ]
          },
          "metadata": {},
          "execution_count": 19
        }
      ]
    },
    {
      "cell_type": "code",
      "source": [
        "test_correct"
      ],
      "metadata": {
        "colab": {
          "base_uri": "https://localhost:8080/"
        },
        "id": "u8MQwU3VrD7_",
        "outputId": "f608e7ea-e201-4606-cad9-93fda33fdcf2"
      },
      "execution_count": 20,
      "outputs": [
        {
          "output_type": "execute_result",
          "data": {
            "text/plain": [
              "[0.4448,\n",
              " 0.5195,\n",
              " 0.56,\n",
              " 0.5723,\n",
              " 0.581,\n",
              " 0.5848,\n",
              " 0.5963,\n",
              " 0.6064,\n",
              " 0.6078,\n",
              " 0.6106,\n",
              " 0.6157,\n",
              " 0.6232,\n",
              " 0.6198,\n",
              " 0.6197,\n",
              " 0.6176,\n",
              " 0.6135,\n",
              " 0.6114,\n",
              " 0.6162,\n",
              " 0.6203,\n",
              " 0.6248]"
            ]
          },
          "metadata": {},
          "execution_count": 20
        }
      ]
    },
    {
      "cell_type": "code",
      "source": [
        "train_losses"
      ],
      "metadata": {
        "colab": {
          "base_uri": "https://localhost:8080/"
        },
        "id": "2LXUlNxbrBO3",
        "outputId": "e04073cb-2eda-4271-ae6c-3b9a9068cfdd"
      },
      "execution_count": 21,
      "outputs": [
        {
          "output_type": "execute_result",
          "data": {
            "text/plain": [
              "[2.307222366333008,\n",
              " 2.3755900859832764,\n",
              " 2.307300567626953,\n",
              " 2.1950693130493164,\n",
              " 2.1966347694396973,\n",
              " 2.1067004203796387,\n",
              " 2.048973798751831,\n",
              " 2.1907496452331543,\n",
              " 1.881860375404358,\n",
              " 1.8128654956817627,\n",
              " 1.8929319381713867,\n",
              " 2.0569469928741455,\n",
              " 2.015282392501831,\n",
              " 1.8740463256835938,\n",
              " 1.8288309574127197,\n",
              " 1.773929238319397,\n",
              " 1.9685777425765991,\n",
              " 2.0747287273406982,\n",
              " 2.229977607727051,\n",
              " 2.2098381519317627]"
            ]
          },
          "metadata": {},
          "execution_count": 21
        }
      ]
    },
    {
      "cell_type": "code",
      "source": [
        "test_losses"
      ],
      "metadata": {
        "colab": {
          "base_uri": "https://localhost:8080/"
        },
        "id": "wtUITxVIrJ3P",
        "outputId": "343f4261-7acc-4c19-a234-8c37043ba6aa"
      },
      "execution_count": 22,
      "outputs": [
        {
          "output_type": "execute_result",
          "data": {
            "text/plain": [
              "[1.369418740272522,\n",
              " 1.211211085319519,\n",
              " 1.1056288480758667,\n",
              " 1.1039373874664307,\n",
              " 1.0202789306640625,\n",
              " 1.023627758026123,\n",
              " 0.989422619342804,\n",
              " 0.973763108253479,\n",
              " 0.9817411303520203,\n",
              " 0.9314683079719543,\n",
              " 1.1447886228561401,\n",
              " 1.3911906480789185,\n",
              " 1.3021948337554932,\n",
              " 1.473285436630249,\n",
              " 1.3097561597824097,\n",
              " 1.0945067405700684,\n",
              " 0.9679449796676636,\n",
              " 0.832715630531311,\n",
              " 1.0101962089538574,\n",
              " 1.252241611480713]"
            ]
          },
          "metadata": {},
          "execution_count": 22
        }
      ]
    },
    {
      "cell_type": "code",
      "source": [
        "len(train_loader)"
      ],
      "metadata": {
        "colab": {
          "base_uri": "https://localhost:8080/"
        },
        "id": "m9kmk65yrMC-",
        "outputId": "45f1f2b7-cc81-4a50-fed5-e1a4f33dedfb"
      },
      "execution_count": 23,
      "outputs": [
        {
          "output_type": "execute_result",
          "data": {
            "text/plain": [
              "5000"
            ]
          },
          "metadata": {},
          "execution_count": 23
        }
      ]
    },
    {
      "cell_type": "code",
      "source": [
        "len(test_loader)"
      ],
      "metadata": {
        "colab": {
          "base_uri": "https://localhost:8080/"
        },
        "id": "x6tEtzBmzmwA",
        "outputId": "7dc5aa6b-17a9-4c5e-b15e-f728269da0d4"
      },
      "execution_count": 24,
      "outputs": [
        {
          "output_type": "execute_result",
          "data": {
            "text/plain": [
              "1000"
            ]
          },
          "metadata": {},
          "execution_count": 24
        }
      ]
    },
    {
      "cell_type": "code",
      "source": [
        "\n",
        "new=[t.item() for t in losses]"
      ],
      "metadata": {
        "id": "CFScg22Lz132"
      },
      "execution_count": 25,
      "outputs": []
    },
    {
      "cell_type": "code",
      "source": [
        "plt.plot(new)"
      ],
      "metadata": {
        "colab": {
          "base_uri": "https://localhost:8080/",
          "height": 448
        },
        "id": "gPPLD2XQL14a",
        "outputId": "6d34b404-d43b-4b07-c9ce-9040f8540cc5"
      },
      "execution_count": 26,
      "outputs": [
        {
          "output_type": "execute_result",
          "data": {
            "text/plain": [
              "[<matplotlib.lines.Line2D at 0x7acbed4611d0>]"
            ]
          },
          "metadata": {},
          "execution_count": 26
        },
        {
          "output_type": "display_data",
          "data": {
            "text/plain": [
              "<Figure size 640x480 with 1 Axes>"
            ],
            "image/png": "[encoded data removed]"
          },
          "metadata": {}
        }
      ]
    },
    {
      "cell_type": "code",
      "source": [],
      "metadata": {
        "id": "k7gMXx0t1iDN"
      },
      "execution_count": 26,
      "outputs": []
    }
  ]
}