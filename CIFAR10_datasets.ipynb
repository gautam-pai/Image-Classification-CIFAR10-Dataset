{
  "nbformat": 4,
  "nbformat_minor": 0,
  "metadata": {
    "colab": {
      "provenance": [],
      "authorship_tag": "ABX9TyMreJjc+wHNqrgYJ6i9W3PI",
      "include_colab_link": true
    },
    "kernelspec": {
      "name": "python3",
      "display_name": "Python 3"
    },
    "language_info": {
      "name": "python"
    }
  },
  "cells": [
    {
      "cell_type": "markdown",
      "metadata": {
        "id": "view-in-github",
        "colab_type": "text"
      },
      "source": [
        "<a href=\"https://colab.research.google.com/github/gautam-pai/Image-Classification-CIFAR10-Dataset/blob/main/CIFAR10_datasets.ipynb\" target=\"_parent\"><img src=\"https://colab.research.google.com/assets/colab-badge.svg\" alt=\"Open In Colab\"/></a>"
      ]
    },
    {
      "cell_type": "markdown",
      "source": [
        "## Import libraries"
      ],
      "metadata": {
        "id": "22qg1iADAMsF"
      }
    },
    {
      "cell_type": "code",
      "execution_count": 1,
      "metadata": {
        "id": "rkFy_91Q_2jK"
      },
      "outputs": [],
      "source": [
        "import pandas as pd\n",
        "import numpy as np\n",
        "from sklearn.metrics import confusion_matrix\n",
        "import matplotlib.pyplot as plt\n",
        "\n",
        "%matplotlib inline"
      ]
    },
    {
      "cell_type": "code",
      "source": [
        "import torch\n",
        "import torch.nn as nn\n",
        "from torchvision import datasets,transforms\n",
        "import torch.nn.functional as F\n",
        "from torch.utils.data import DataLoader"
      ],
      "metadata": {
        "id": "Mhj4HJv_AMNn"
      },
      "execution_count": 2,
      "outputs": []
    },
    {
      "cell_type": "markdown",
      "source": [
        "## Import Datasets"
      ],
      "metadata": {
        "id": "u-J1b89iDb36"
      }
    },
    {
      "cell_type": "code",
      "source": [
        "train_data=datasets.CIFAR10(root=\"./data\",train=True,transform=transforms.ToTensor(),download=True)\n",
        "test_data=datasets.CIFAR10(root=\"./data\",train=False,transform=transforms.ToTensor(),download=True)"
      ],
      "metadata": {
        "colab": {
          "base_uri": "https://localhost:8080/"
        },
        "id": "JTw_qF3xBdiU",
        "outputId": "bb867e2c-9cdd-4a9a-fd90-be4bc0e55767"
      },
      "execution_count": 3,
      "outputs": [
        {
          "output_type": "stream",
          "name": "stdout",
          "text": [
            "Files already downloaded and verified\n",
            "Files already downloaded and verified\n"
          ]
        }
      ]
    },
    {
      "cell_type": "code",
      "source": [
        "train_data"
      ],
      "metadata": {
        "colab": {
          "base_uri": "https://localhost:8080/"
        },
        "id": "TJGBZEobBdex",
        "outputId": "7ed6565c-6dcc-4d39-8b1b-7880ae6bed02"
      },
      "execution_count": 4,
      "outputs": [
        {
          "output_type": "execute_result",
          "data": {
            "text/plain": [
              "Dataset CIFAR10\n",
              "    Number of datapoints: 50000\n",
              "    Root location: ./data\n",
              "    Split: Train\n",
              "    StandardTransform\n",
              "Transform: ToTensor()"
            ]
          },
          "metadata": {},
          "execution_count": 4
        }
      ]
    },
    {
      "cell_type": "code",
      "source": [
        "test_data"
      ],
      "metadata": {
        "colab": {
          "base_uri": "https://localhost:8080/"
        },
        "id": "a9kcR4feBdbw",
        "outputId": "53ec17b0-bdfb-4533-aed6-5e09829e06b1"
      },
      "execution_count": 5,
      "outputs": [
        {
          "output_type": "execute_result",
          "data": {
            "text/plain": [
              "Dataset CIFAR10\n",
              "    Number of datapoints: 10000\n",
              "    Root location: ./data\n",
              "    Split: Test\n",
              "    StandardTransform\n",
              "Transform: ToTensor()"
            ]
          },
          "metadata": {},
          "execution_count": 5
        }
      ]
    },
    {
      "cell_type": "code",
      "source": [
        "class_names = train_data.classes"
      ],
      "metadata": {
        "id": "IKb8ip53JcD-"
      },
      "execution_count": 6,
      "outputs": []
    },
    {
      "cell_type": "markdown",
      "source": [
        "## Data Exploration"
      ],
      "metadata": {
        "id": "NjulVQmOIB4W"
      }
    },
    {
      "cell_type": "code",
      "source": [
        "print(train_data[0][0].shape)\n",
        "sample_image=train_data[0][0]\n",
        "sample_tag=train_data[0][1]\n",
        "sample_image=sample_image.permute(1,2,0)\n",
        "plt.imshow(sample_image)\n",
        "plt.title(class_names[sample_tag])"
      ],
      "metadata": {
        "colab": {
          "base_uri": "https://localhost:8080/",
          "height": 488
        },
        "id": "tzhQoiBbBdY9",
        "outputId": "2e565f06-63e1-4fe2-bbe4-be6485885371"
      },
      "execution_count": 7,
      "outputs": [
        {
          "output_type": "stream",
          "name": "stdout",
          "text": [
            "torch.Size([3, 32, 32])\n"
          ]
        },
        {
          "output_type": "execute_result",
          "data": {
            "text/plain": [
              "Text(0.5, 1.0, 'frog')"
            ]
          },
          "metadata": {},
          "execution_count": 7
        },
        {
          "output_type": "display_data",
          "data": {
            "text/plain": [
              "<Figure size 640x480 with 1 Axes>"
            ],
            "image/png": "[encoded data removed]"
          },
          "metadata": {}
        }
      ]
    },
    {
      "cell_type": "code",
      "source": [
        "print(train_data[100][0].shape)\n",
        "sample_image=train_data[100][0]\n",
        "sample_tag=train_data[100][1]\n",
        "sample_image=sample_image.permute(1,2,0)\n",
        "plt.imshow(sample_image)\n",
        "plt.title(class_names[sample_tag])"
      ],
      "metadata": {
        "colab": {
          "base_uri": "https://localhost:8080/",
          "height": 488
        },
        "id": "fcMfK94IBdWL",
        "outputId": "9ab5f9c3-3720-4165-a471-bb53195dfdff"
      },
      "execution_count": 8,
      "outputs": [
        {
          "output_type": "stream",
          "name": "stdout",
          "text": [
            "torch.Size([3, 32, 32])\n"
          ]
        },
        {
          "output_type": "execute_result",
          "data": {
            "text/plain": [
              "Text(0.5, 1.0, 'ship')"
            ]
          },
          "metadata": {},
          "execution_count": 8
        },
        {
          "output_type": "display_data",
          "data": {
            "text/plain": [
              "<Figure size 640x480 with 1 Axes>"
            ],
            "image/png": "[encoded data removed]"
          },
          "metadata": {}
        }
      ]
    },
    {
      "cell_type": "code",
      "source": [
        "print(train_data[500][0].shape)\n",
        "sample_image=train_data[500][0]\n",
        "sample_tag=train_data[500][1]\n",
        "sample_image=sample_image.permute(1,2,0)\n",
        "plt.imshow(sample_image)\n",
        "plt.title(class_names[sample_tag])"
      ],
      "metadata": {
        "colab": {
          "base_uri": "https://localhost:8080/",
          "height": 488
        },
        "id": "EOObBidlBdTO",
        "outputId": "c5d38575-b29f-41aa-8107-0a054c783796"
      },
      "execution_count": 9,
      "outputs": [
        {
          "output_type": "stream",
          "name": "stdout",
          "text": [
            "torch.Size([3, 32, 32])\n"
          ]
        },
        {
          "output_type": "execute_result",
          "data": {
            "text/plain": [
              "Text(0.5, 1.0, 'dog')"
            ]
          },
          "metadata": {},
          "execution_count": 9
        },
        {
          "output_type": "display_data",
          "data": {
            "text/plain": [
              "<Figure size 640x480 with 1 Axes>"
            ],
            "image/png": "[encoded data removed]"
          },
          "metadata": {}
        }
      ]
    },
    {
      "cell_type": "code",
      "source": [
        "print(train_data[5000][0].shape)\n",
        "sample_image=train_data[5000][0]\n",
        "sample_tag=train_data[5000][1]\n",
        "sample_image=sample_image.permute(1,2,0)\n",
        "plt.imshow(sample_image)\n",
        "plt.title(class_names[sample_tag])"
      ],
      "metadata": {
        "colab": {
          "base_uri": "https://localhost:8080/",
          "height": 488
        },
        "id": "SVszwrzrBdQJ",
        "outputId": "467726dc-a1e0-4ee0-b102-4197134e0796"
      },
      "execution_count": 10,
      "outputs": [
        {
          "output_type": "stream",
          "name": "stdout",
          "text": [
            "torch.Size([3, 32, 32])\n"
          ]
        },
        {
          "output_type": "execute_result",
          "data": {
            "text/plain": [
              "Text(0.5, 1.0, 'frog')"
            ]
          },
          "metadata": {},
          "execution_count": 10
        },
        {
          "output_type": "display_data",
          "data": {
            "text/plain": [
              "<Figure size 640x480 with 1 Axes>"
            ],
            "image/png": "[encoded data removed]"
          },
          "metadata": {}
        }
      ]
    },
    {
      "cell_type": "markdown",
      "source": [
        "## Creating batches of datasets"
      ],
      "metadata": {
        "id": "7XYKOE1UMB6O"
      }
    },
    {
      "cell_type": "code",
      "source": [
        "## Creating a small batch size of 10\n",
        "train_loader=DataLoader(train_data,batch_size=10,shuffle=False)\n",
        "test_loader=DataLoader(test_data,batch_size=10, shuffle=False)"
      ],
      "metadata": {
        "id": "4HfIRmJQMHS1"
      },
      "execution_count": 11,
      "outputs": []
    },
    {
      "cell_type": "markdown",
      "source": [
        "## Defining the CNN Model"
      ],
      "metadata": {
        "id": "hvsKE9LzKYlk"
      }
    },
    {
      "cell_type": "code",
      "source": [
        "class Cifar10Model(nn.Module):\n",
        "  def __init__(self):\n",
        "    super().__init__()\n",
        "    ## Conv Layers\n",
        "    self.conv1=nn.Conv2d(in_channels=3,out_channels=10,kernel_size=3,stride=1)\n",
        "    self.conv2=nn.Conv2d(in_channels=10,out_channels=20,kernel_size=3,stride=1)\n",
        "    self.conv3=nn.Conv2d(in_channels=20,out_channels=40,kernel_size=3,stride=1)\n",
        "\n",
        "    ## Fully Connected Layers\n",
        "    self.fc1=nn.Linear(2*2*40,80)\n",
        "    self.fc2=nn.Linear(80,40)\n",
        "    self.fc3=nn.Linear(40,10)\n",
        "\n",
        "\n",
        "  def forward(self,X):\n",
        "    # ReLU activation function and Max Pooling layer\n",
        "    X=F.relu(self.conv1(X))\n",
        "    X=F.max_pool2d(X,kernel_size=2,stride=2)\n",
        "    X=F.relu(self.conv2(X))\n",
        "    X=F.max_pool2d(X,kernel_size=2,stride=2)\n",
        "    X=F.relu(self.conv3(X))\n",
        "    X=F.max_pool2d(X,kernel_size=2,stride=2)\n",
        "\n",
        "    # Flattening\n",
        "    X=X.view(-1,2*2*40)\n",
        "\n",
        "    ## ANN layers\n",
        "    X=F.relu(self.fc1(X))\n",
        "    X=F.relu(self.fc2(X))\n",
        "    X=self.fc3(X)\n",
        "\n",
        "    # retunrn the value using log softmax function\n",
        "    return X\n",
        "\n"
      ],
      "metadata": {
        "id": "UO-frmePBdNc"
      },
      "execution_count": 12,
      "outputs": []
    },
    {
      "cell_type": "code",
      "source": [
        "Detector=Cifar10Model()"
      ],
      "metadata": {
        "id": "2fYvy96XKgqL"
      },
      "execution_count": 13,
      "outputs": []
    },
    {
      "cell_type": "code",
      "source": [
        "Detector"
      ],
      "metadata": {
        "id": "AiG6wkRuKgne",
        "colab": {
          "base_uri": "https://localhost:8080/"
        },
        "outputId": "b353b8fd-540d-49ee-dd45-a2535186a3f1"
      },
      "execution_count": 14,
      "outputs": [
        {
          "output_type": "execute_result",
          "data": {
            "text/plain": [
              "Cifar10Model(\n",
              "  (conv1): Conv2d(3, 10, kernel_size=(3, 3), stride=(1, 1))\n",
              "  (conv2): Conv2d(10, 20, kernel_size=(3, 3), stride=(1, 1))\n",
              "  (conv3): Conv2d(20, 40, kernel_size=(3, 3), stride=(1, 1))\n",
              "  (fc1): Linear(in_features=160, out_features=80, bias=True)\n",
              "  (fc2): Linear(in_features=80, out_features=40, bias=True)\n",
              "  (fc3): Linear(in_features=40, out_features=10, bias=True)\n",
              ")"
            ]
          },
          "metadata": {},
          "execution_count": 14
        }
      ]
    },
    {
      "cell_type": "code",
      "source": [
        "## Loss Function optimizer\n",
        "criterion=nn.CrossEntropyLoss()\n",
        "optimizer=torch.optim.Adam(Detector.parameters(),lr=0.001)"
      ],
      "metadata": {
        "id": "r6Jx6Is_Kgkz"
      },
      "execution_count": 15,
      "outputs": []
    },
    {
      "cell_type": "markdown",
      "source": [
        "## Training the  model"
      ],
      "metadata": {
        "id": "Gl-a2z7KLJBq"
      }
    },
    {
      "cell_type": "code",
      "source": [
        "# Record the training time\n",
        "import time\n",
        "start_time=time.time()\n",
        "epochs=20\n",
        "# tracking the losses & correct ones\n",
        "train_losses=[]\n",
        "test_losses=[]\n",
        "train_correct=[]\n",
        "test_correct=[]\n",
        "losses=[]\n",
        "for i in range(epochs):\n",
        "  trn_corr=0\n",
        "  tst_corr=0\n",
        "\n",
        "  #training\n",
        "  for b,(X_Train,y_train) in enumerate(train_loader):\n",
        "    b+=1\n",
        "    y_pred=Detector(X_Train)\n",
        "    loss=criterion(y_pred,y_train)\n",
        "    losses.append(loss)\n",
        "    predicted=torch.max(y_pred.data,1)[1]\n",
        "    batch_corr=(predicted==y_train).sum().item()\n",
        "    trn_corr+=batch_corr\n",
        "\n",
        "    #update weights\n",
        "    optimizer.zero_grad()\n",
        "    loss.backward()\n",
        "    optimizer.step()\n",
        "\n",
        "    if b%500==0:\n",
        "      print(f\"Epochs: {i+1} Batch: {b} Loss: {loss.item()}\")\n",
        "  train_losses.append(loss.item())\n",
        "  train_correct.append(trn_corr/len(train_data))\n",
        "\n",
        "  # Testing\n",
        "\n",
        "  tst_corr=0\n",
        "  with torch.no_grad():\n",
        "    for b,(X_Test,y_test) in enumerate(test_loader):\n",
        "      y_val=Detector(X_Test)\n",
        "      predicted=torch.max(y_val.data,1)[1]\n",
        "      tst_corr+=(predicted==y_test).sum().item()\n",
        "  loss=criterion(y_val,y_test)\n",
        "\n",
        "  test_losses.append(loss.item())\n",
        "  test_correct.append(tst_corr/len(test_data))\n",
        "\n",
        "\n",
        "current_time=time.time()\n",
        "total=current_time-start_time"
      ],
      "metadata": {
        "id": "Kv2haDHfKgiE",
        "colab": {
          "base_uri": "https://localhost:8080/"
        },
        "outputId": "a434f365-1295-4aa3-a9b7-add9f15462bb"
      },
      "execution_count": 16,
      "outputs": [
        {
          "output_type": "stream",
          "name": "stdout",
          "text": [
            "Epochs: 1 Batch: 500 Loss: 1.9508841037750244\n",
            "Epochs: 1 Batch: 1000 Loss: 1.791405439376831\n",
            "Epochs: 1 Batch: 1500 Loss: 2.1021728515625\n",
            "Epochs: 1 Batch: 2000 Loss: 1.5981590747833252\n",
            "Epochs: 1 Batch: 2500 Loss: 1.6776533126831055\n",
            "Epochs: 1 Batch: 3000 Loss: 1.3347208499908447\n",
            "Epochs: 1 Batch: 3500 Loss: 1.6739906072616577\n",
            "Epochs: 1 Batch: 4000 Loss: 1.9614359140396118\n",
            "Epochs: 1 Batch: 4500 Loss: 2.3168768882751465\n",
            "Epochs: 1 Batch: 5000 Loss: 2.291081428527832\n",
            "Epochs: 2 Batch: 500 Loss: 1.6031566858291626\n",
            "Epochs: 2 Batch: 1000 Loss: 1.5534881353378296\n",
            "Epochs: 2 Batch: 1500 Loss: 1.7195020914077759\n",
            "Epochs: 2 Batch: 2000 Loss: 0.9062700271606445\n",
            "Epochs: 2 Batch: 2500 Loss: 1.168890357017517\n",
            "Epochs: 2 Batch: 3000 Loss: 1.1022230386734009\n",
            "Epochs: 2 Batch: 3500 Loss: 1.5129282474517822\n",
            "Epochs: 2 Batch: 4000 Loss: 1.5605134963989258\n",
            "Epochs: 2 Batch: 4500 Loss: 1.9965612888336182\n",
            "Epochs: 2 Batch: 5000 Loss: 2.3056633472442627\n",
            "Epochs: 3 Batch: 500 Loss: 1.1344376802444458\n",
            "Epochs: 3 Batch: 1000 Loss: 1.5281922817230225\n",
            "Epochs: 3 Batch: 1500 Loss: 1.2918651103973389\n",
            "Epochs: 3 Batch: 2000 Loss: 0.7829157114028931\n",
            "Epochs: 3 Batch: 2500 Loss: 1.1569740772247314\n",
            "Epochs: 3 Batch: 3000 Loss: 0.9231831431388855\n",
            "Epochs: 3 Batch: 3500 Loss: 1.55741286277771\n",
            "Epochs: 3 Batch: 4000 Loss: 1.3296692371368408\n",
            "Epochs: 3 Batch: 4500 Loss: 1.9191255569458008\n",
            "Epochs: 3 Batch: 5000 Loss: 2.190086841583252\n",
            "Epochs: 4 Batch: 500 Loss: 0.9873493909835815\n",
            "Epochs: 4 Batch: 1000 Loss: 1.5843784809112549\n",
            "Epochs: 4 Batch: 1500 Loss: 1.015852689743042\n",
            "Epochs: 4 Batch: 2000 Loss: 0.6418898105621338\n",
            "Epochs: 4 Batch: 2500 Loss: 1.2147289514541626\n",
            "Epochs: 4 Batch: 3000 Loss: 0.704723596572876\n",
            "Epochs: 4 Batch: 3500 Loss: 1.4330241680145264\n",
            "Epochs: 4 Batch: 4000 Loss: 1.0038174390792847\n",
            "Epochs: 4 Batch: 4500 Loss: 1.8780126571655273\n",
            "Epochs: 4 Batch: 5000 Loss: 2.1692304611206055\n",
            "Epochs: 5 Batch: 500 Loss: 0.913443386554718\n",
            "Epochs: 5 Batch: 1000 Loss: 1.559286117553711\n",
            "Epochs: 5 Batch: 1500 Loss: 0.9257695078849792\n",
            "Epochs: 5 Batch: 2000 Loss: 0.6059539318084717\n",
            "Epochs: 5 Batch: 2500 Loss: 1.1743872165679932\n",
            "Epochs: 5 Batch: 3000 Loss: 0.6257120966911316\n",
            "Epochs: 5 Batch: 3500 Loss: 1.2713396549224854\n",
            "Epochs: 5 Batch: 4000 Loss: 0.8766089677810669\n",
            "Epochs: 5 Batch: 4500 Loss: 1.7338377237319946\n",
            "Epochs: 5 Batch: 5000 Loss: 1.9921194314956665\n",
            "Epochs: 6 Batch: 500 Loss: 0.9410789608955383\n",
            "Epochs: 6 Batch: 1000 Loss: 1.668900728225708\n",
            "Epochs: 6 Batch: 1500 Loss: 0.9852369427680969\n",
            "Epochs: 6 Batch: 2000 Loss: 0.640196681022644\n",
            "Epochs: 6 Batch: 2500 Loss: 0.9917374849319458\n",
            "Epochs: 6 Batch: 3000 Loss: 0.5763617157936096\n",
            "Epochs: 6 Batch: 3500 Loss: 1.1517856121063232\n",
            "Epochs: 6 Batch: 4000 Loss: 0.9460028409957886\n",
            "Epochs: 6 Batch: 4500 Loss: 1.5886050462722778\n",
            "Epochs: 6 Batch: 5000 Loss: 1.9386895895004272\n",
            "Epochs: 7 Batch: 500 Loss: 0.8398075103759766\n",
            "Epochs: 7 Batch: 1000 Loss: 1.6743590831756592\n",
            "Epochs: 7 Batch: 1500 Loss: 1.0426632165908813\n",
            "Epochs: 7 Batch: 2000 Loss: 0.7035819292068481\n",
            "Epochs: 7 Batch: 2500 Loss: 0.9978674650192261\n",
            "Epochs: 7 Batch: 3000 Loss: 0.5484873056411743\n",
            "Epochs: 7 Batch: 3500 Loss: 1.0539499521255493\n",
            "Epochs: 7 Batch: 4000 Loss: 0.9113667607307434\n",
            "Epochs: 7 Batch: 4500 Loss: 1.5244951248168945\n",
            "Epochs: 7 Batch: 5000 Loss: 1.616553544998169\n",
            "Epochs: 8 Batch: 500 Loss: 0.7641393542289734\n",
            "Epochs: 8 Batch: 1000 Loss: 1.6018705368041992\n",
            "Epochs: 8 Batch: 1500 Loss: 1.0589549541473389\n",
            "Epochs: 8 Batch: 2000 Loss: 0.7435749769210815\n",
            "Epochs: 8 Batch: 2500 Loss: 0.9660670161247253\n",
            "Epochs: 8 Batch: 3000 Loss: 0.6553229093551636\n",
            "Epochs: 8 Batch: 3500 Loss: 0.9099298715591431\n",
            "Epochs: 8 Batch: 4000 Loss: 0.9511713981628418\n",
            "Epochs: 8 Batch: 4500 Loss: 1.501678228378296\n",
            "Epochs: 8 Batch: 5000 Loss: 1.6277081966400146\n",
            "Epochs: 9 Batch: 500 Loss: 0.6756504774093628\n",
            "Epochs: 9 Batch: 1000 Loss: 1.3654476404190063\n",
            "Epochs: 9 Batch: 1500 Loss: 1.1628491878509521\n",
            "Epochs: 9 Batch: 2000 Loss: 0.6580003499984741\n",
            "Epochs: 9 Batch: 2500 Loss: 0.8818908929824829\n",
            "Epochs: 9 Batch: 3000 Loss: 0.921464741230011\n",
            "Epochs: 9 Batch: 3500 Loss: 0.9878395199775696\n",
            "Epochs: 9 Batch: 4000 Loss: 1.0275094509124756\n",
            "Epochs: 9 Batch: 4500 Loss: 1.5715945959091187\n",
            "Epochs: 9 Batch: 5000 Loss: 1.682273507118225\n",
            "Epochs: 10 Batch: 500 Loss: 0.5993816256523132\n",
            "Epochs: 10 Batch: 1000 Loss: 1.376423954963684\n",
            "Epochs: 10 Batch: 1500 Loss: 1.2793865203857422\n",
            "Epochs: 10 Batch: 2000 Loss: 0.6974915862083435\n",
            "Epochs: 10 Batch: 2500 Loss: 0.9764955639839172\n",
            "Epochs: 10 Batch: 3000 Loss: 0.9768673181533813\n",
            "Epochs: 10 Batch: 3500 Loss: 0.9379670023918152\n",
            "Epochs: 10 Batch: 4000 Loss: 0.9606515169143677\n",
            "Epochs: 10 Batch: 4500 Loss: 1.448714017868042\n",
            "Epochs: 10 Batch: 5000 Loss: 1.6352202892303467\n",
            "Epochs: 11 Batch: 500 Loss: 0.4030320644378662\n",
            "Epochs: 11 Batch: 1000 Loss: 1.2476117610931396\n",
            "Epochs: 11 Batch: 1500 Loss: 1.1626920700073242\n",
            "Epochs: 11 Batch: 2000 Loss: 0.6992964744567871\n",
            "Epochs: 11 Batch: 2500 Loss: 0.9557324647903442\n",
            "Epochs: 11 Batch: 3000 Loss: 0.9504761695861816\n",
            "Epochs: 11 Batch: 3500 Loss: 0.9063342809677124\n",
            "Epochs: 11 Batch: 4000 Loss: 1.068293809890747\n",
            "Epochs: 11 Batch: 4500 Loss: 1.4911396503448486\n",
            "Epochs: 11 Batch: 5000 Loss: 1.5764962434768677\n",
            "Epochs: 12 Batch: 500 Loss: 0.46211323142051697\n",
            "Epochs: 12 Batch: 1000 Loss: 1.3962918519973755\n",
            "Epochs: 12 Batch: 1500 Loss: 1.111765742301941\n",
            "Epochs: 12 Batch: 2000 Loss: 0.7658030390739441\n",
            "Epochs: 12 Batch: 2500 Loss: 0.8580619096755981\n",
            "Epochs: 12 Batch: 3000 Loss: 0.8532635569572449\n",
            "Epochs: 12 Batch: 3500 Loss: 0.7854521870613098\n",
            "Epochs: 12 Batch: 4000 Loss: 1.1153333187103271\n",
            "Epochs: 12 Batch: 4500 Loss: 1.4163978099822998\n",
            "Epochs: 12 Batch: 5000 Loss: 1.6123802661895752\n",
            "Epochs: 13 Batch: 500 Loss: 0.4182029366493225\n",
            "Epochs: 13 Batch: 1000 Loss: 1.2115486860275269\n",
            "Epochs: 13 Batch: 1500 Loss: 1.2448948621749878\n",
            "Epochs: 13 Batch: 2000 Loss: 0.6668078303337097\n",
            "Epochs: 13 Batch: 2500 Loss: 0.9667760133743286\n",
            "Epochs: 13 Batch: 3000 Loss: 0.9330394864082336\n",
            "Epochs: 13 Batch: 3500 Loss: 0.8450430631637573\n",
            "Epochs: 13 Batch: 4000 Loss: 1.0133633613586426\n",
            "Epochs: 13 Batch: 4500 Loss: 1.5870460271835327\n",
            "Epochs: 13 Batch: 5000 Loss: 1.7606213092803955\n",
            "Epochs: 14 Batch: 500 Loss: 0.40195518732070923\n",
            "Epochs: 14 Batch: 1000 Loss: 1.2738512754440308\n",
            "Epochs: 14 Batch: 1500 Loss: 1.128225564956665\n",
            "Epochs: 14 Batch: 2000 Loss: 0.6203257441520691\n",
            "Epochs: 14 Batch: 2500 Loss: 1.027254343032837\n",
            "Epochs: 14 Batch: 3000 Loss: 0.940538763999939\n",
            "Epochs: 14 Batch: 3500 Loss: 0.8742307424545288\n",
            "Epochs: 14 Batch: 4000 Loss: 1.0834561586380005\n",
            "Epochs: 14 Batch: 4500 Loss: 1.4348299503326416\n",
            "Epochs: 14 Batch: 5000 Loss: 1.2726339101791382\n",
            "Epochs: 15 Batch: 500 Loss: 0.333416610956192\n",
            "Epochs: 15 Batch: 1000 Loss: 1.4690563678741455\n",
            "Epochs: 15 Batch: 1500 Loss: 1.0675618648529053\n",
            "Epochs: 15 Batch: 2000 Loss: 0.5518472790718079\n",
            "Epochs: 15 Batch: 2500 Loss: 0.8626570701599121\n",
            "Epochs: 15 Batch: 3000 Loss: 0.9607661366462708\n",
            "Epochs: 15 Batch: 3500 Loss: 0.8406997919082642\n",
            "Epochs: 15 Batch: 4000 Loss: 1.0829322338104248\n",
            "Epochs: 15 Batch: 4500 Loss: 1.471513032913208\n",
            "Epochs: 15 Batch: 5000 Loss: 1.4501749277114868\n",
            "Epochs: 16 Batch: 500 Loss: 0.3195100724697113\n",
            "Epochs: 16 Batch: 1000 Loss: 1.3316681385040283\n",
            "Epochs: 16 Batch: 1500 Loss: 1.2045029401779175\n",
            "Epochs: 16 Batch: 2000 Loss: 0.46377724409103394\n",
            "Epochs: 16 Batch: 2500 Loss: 0.7612610459327698\n",
            "Epochs: 16 Batch: 3000 Loss: 0.9271341562271118\n",
            "Epochs: 16 Batch: 3500 Loss: 0.8293391466140747\n",
            "Epochs: 16 Batch: 4000 Loss: 0.9948557615280151\n",
            "Epochs: 16 Batch: 4500 Loss: 1.6810518503189087\n",
            "Epochs: 16 Batch: 5000 Loss: 1.5823465585708618\n",
            "Epochs: 17 Batch: 500 Loss: 0.37649449706077576\n",
            "Epochs: 17 Batch: 1000 Loss: 1.3121223449707031\n",
            "Epochs: 17 Batch: 1500 Loss: 1.247183918952942\n",
            "Epochs: 17 Batch: 2000 Loss: 0.501862645149231\n",
            "Epochs: 17 Batch: 2500 Loss: 0.7919335961341858\n",
            "Epochs: 17 Batch: 3000 Loss: 0.7854782342910767\n",
            "Epochs: 17 Batch: 3500 Loss: 1.0212968587875366\n",
            "Epochs: 17 Batch: 4000 Loss: 1.0752842426300049\n",
            "Epochs: 17 Batch: 4500 Loss: 1.4164273738861084\n",
            "Epochs: 17 Batch: 5000 Loss: 1.5050774812698364\n",
            "Epochs: 18 Batch: 500 Loss: 0.31139668822288513\n",
            "Epochs: 18 Batch: 1000 Loss: 1.0939990282058716\n",
            "Epochs: 18 Batch: 1500 Loss: 1.332486867904663\n",
            "Epochs: 18 Batch: 2000 Loss: 0.47371378540992737\n",
            "Epochs: 18 Batch: 2500 Loss: 0.6794043779373169\n",
            "Epochs: 18 Batch: 3000 Loss: 0.769980788230896\n",
            "Epochs: 18 Batch: 3500 Loss: 0.6817806363105774\n",
            "Epochs: 18 Batch: 4000 Loss: 1.0985978841781616\n",
            "Epochs: 18 Batch: 4500 Loss: 1.3069727420806885\n",
            "Epochs: 18 Batch: 5000 Loss: 1.6999050378799438\n",
            "Epochs: 19 Batch: 500 Loss: 0.30006879568099976\n",
            "Epochs: 19 Batch: 1000 Loss: 1.2027010917663574\n",
            "Epochs: 19 Batch: 1500 Loss: 1.4834644794464111\n",
            "Epochs: 19 Batch: 2000 Loss: 0.5409747362136841\n",
            "Epochs: 19 Batch: 2500 Loss: 0.8010107278823853\n",
            "Epochs: 19 Batch: 3000 Loss: 0.7360333800315857\n",
            "Epochs: 19 Batch: 3500 Loss: 1.0020893812179565\n",
            "Epochs: 19 Batch: 4000 Loss: 1.061715841293335\n",
            "Epochs: 19 Batch: 4500 Loss: 1.2547954320907593\n",
            "Epochs: 19 Batch: 5000 Loss: 1.3436237573623657\n",
            "Epochs: 20 Batch: 500 Loss: 0.2618820071220398\n",
            "Epochs: 20 Batch: 1000 Loss: 1.2551549673080444\n",
            "Epochs: 20 Batch: 1500 Loss: 1.5328108072280884\n",
            "Epochs: 20 Batch: 2000 Loss: 0.5306589007377625\n",
            "Epochs: 20 Batch: 2500 Loss: 0.7504712343215942\n",
            "Epochs: 20 Batch: 3000 Loss: 0.6619678735733032\n",
            "Epochs: 20 Batch: 3500 Loss: 0.7920467257499695\n",
            "Epochs: 20 Batch: 4000 Loss: 1.166827917098999\n",
            "Epochs: 20 Batch: 4500 Loss: 1.23822820186615\n",
            "Epochs: 20 Batch: 5000 Loss: 1.437511920928955\n"
          ]
        }
      ]
    },
    {
      "cell_type": "markdown",
      "source": [
        "## Loss Visualization"
      ],
      "metadata": {
        "id": "zoxmS1l_XiDB"
      }
    },
    {
      "cell_type": "code",
      "source": [
        "# Loss\n",
        "plt.plot(train_losses,label=\"Training loss\")\n",
        "plt.plot(test_losses,label=\"Testing loss\")\n",
        "plt.title(\"Loss at the end of each epoch\")\n",
        "plt.legend()"
      ],
      "metadata": {
        "id": "mSEDxm6Q_yN9",
        "outputId": "fbcceb3d-f0f2-4d3b-d648-343091e66c37",
        "colab": {
          "base_uri": "https://localhost:8080/",
          "height": 470
        }
      },
      "execution_count": 17,
      "outputs": [
        {
          "output_type": "execute_result",
          "data": {
            "text/plain": [
              "<matplotlib.legend.Legend at 0x7c6331ad6550>"
            ]
          },
          "metadata": {},
          "execution_count": 17
        },
        {
          "output_type": "display_data",
          "data": {
            "text/plain": [
              "<Figure size 640x480 with 1 Axes>"
            ],
            "image/png": "[encoded data removed]"
          },
          "metadata": {}
        }
      ]
    },
    {
      "cell_type": "markdown",
      "source": [
        "## Accuracy Visualization"
      ],
      "metadata": {
        "id": "rtBGtj_dXt-4"
      }
    },
    {
      "cell_type": "code",
      "source": [
        "#graph the accuracy at the end of each epoch\n",
        "\n",
        "plt.plot([t for t in train_correct],label=\"Training Accuracy\")\n",
        "plt.plot([t for t in test_correct],label=\"Validation Accuracy\")\n",
        "plt.title(\"Accuracy at the end of each epoch\")\n",
        "plt.legend()"
      ],
      "metadata": {
        "id": "rLyBW9duJKMG",
        "colab": {
          "base_uri": "https://localhost:8080/",
          "height": 470
        },
        "outputId": "e579cf39-4858-4305-b879-0b1b4fba0c01"
      },
      "execution_count": 18,
      "outputs": [
        {
          "output_type": "execute_result",
          "data": {
            "text/plain": [
              "<matplotlib.legend.Legend at 0x7c6331a217d0>"
            ]
          },
          "metadata": {},
          "execution_count": 18
        },
        {
          "output_type": "display_data",
          "data": {
            "text/plain": [
              "<Figure size 640x480 with 1 Axes>"
            ],
            "image/png": "[encoded data removed]"
          },
          "metadata": {}
        }
      ]
    },
    {
      "cell_type": "code",
      "source": [
        "train_correct"
      ],
      "metadata": {
        "colab": {
          "base_uri": "https://localhost:8080/"
        },
        "id": "7ONhhr6YqZ53",
        "outputId": "631db005-986c-4b41-812d-af9ff4c30373"
      },
      "execution_count": 19,
      "outputs": [
        {
          "output_type": "execute_result",
          "data": {
            "text/plain": [
              "[0.35836,\n",
              " 0.49542,\n",
              " 0.54766,\n",
              " 0.57966,\n",
              " 0.59768,\n",
              " 0.61476,\n",
              " 0.62634,\n",
              " 0.63544,\n",
              " 0.64484,\n",
              " 0.65296,\n",
              " 0.65898,\n",
              " 0.66462,\n",
              " 0.66946,\n",
              " 0.67318,\n",
              " 0.67734,\n",
              " 0.6824,\n",
              " 0.6875,\n",
              " 0.6905,\n",
              " 0.6929,\n",
              " 0.69752]"
            ]
          },
          "metadata": {},
          "execution_count": 19
        }
      ]
    },
    {
      "cell_type": "code",
      "source": [
        "test_correct"
      ],
      "metadata": {
        "colab": {
          "base_uri": "https://localhost:8080/"
        },
        "id": "u8MQwU3VrD7_",
        "outputId": "30171fba-8d4e-4d2e-f378-e7706dea7e60"
      },
      "execution_count": 20,
      "outputs": [
        {
          "output_type": "execute_result",
          "data": {
            "text/plain": [
              "[0.4609,\n",
              " 0.5227,\n",
              " 0.5602,\n",
              " 0.5816,\n",
              " 0.5924,\n",
              " 0.5964,\n",
              " 0.601,\n",
              " 0.6084,\n",
              " 0.6138,\n",
              " 0.6144,\n",
              " 0.6169,\n",
              " 0.6181,\n",
              " 0.6149,\n",
              " 0.625,\n",
              " 0.6148,\n",
              " 0.627,\n",
              " 0.6191,\n",
              " 0.6219,\n",
              " 0.6277,\n",
              " 0.6239]"
            ]
          },
          "metadata": {},
          "execution_count": 20
        }
      ]
    },
    {
      "cell_type": "code",
      "source": [
        "train_losses"
      ],
      "metadata": {
        "colab": {
          "base_uri": "https://localhost:8080/"
        },
        "id": "2LXUlNxbrBO3",
        "outputId": "94afe081-7387-4c56-c133-30236c3e4d13"
      },
      "execution_count": 21,
      "outputs": [
        {
          "output_type": "execute_result",
          "data": {
            "text/plain": [
              "[2.291081428527832,\n",
              " 2.3056633472442627,\n",
              " 2.190086841583252,\n",
              " 2.1692304611206055,\n",
              " 1.9921194314956665,\n",
              " 1.9386895895004272,\n",
              " 1.616553544998169,\n",
              " 1.6277081966400146,\n",
              " 1.682273507118225,\n",
              " 1.6352202892303467,\n",
              " 1.5764962434768677,\n",
              " 1.6123802661895752,\n",
              " 1.7606213092803955,\n",
              " 1.2726339101791382,\n",
              " 1.4501749277114868,\n",
              " 1.5823465585708618,\n",
              " 1.5050774812698364,\n",
              " 1.6999050378799438,\n",
              " 1.3436237573623657,\n",
              " 1.437511920928955]"
            ]
          },
          "metadata": {},
          "execution_count": 21
        }
      ]
    },
    {
      "cell_type": "code",
      "source": [
        "test_losses"
      ],
      "metadata": {
        "colab": {
          "base_uri": "https://localhost:8080/"
        },
        "id": "wtUITxVIrJ3P",
        "outputId": "5b86e661-6eed-4144-83df-27caf0bc2653"
      },
      "execution_count": 22,
      "outputs": [
        {
          "output_type": "execute_result",
          "data": {
            "text/plain": [
              "[1.3711973428726196,\n",
              " 1.1347135305404663,\n",
              " 1.243656039237976,\n",
              " 1.2251369953155518,\n",
              " 1.0742477178573608,\n",
              " 1.0590004920959473,\n",
              " 0.9242634773254395,\n",
              " 1.2903707027435303,\n",
              " 1.1879825592041016,\n",
              " 1.2846697568893433,\n",
              " 1.2999160289764404,\n",
              " 1.5359995365142822,\n",
              " 1.752379059791565,\n",
              " 1.7249524593353271,\n",
              " 2.1707639694213867,\n",
              " 1.8686227798461914,\n",
              " 1.72641921043396,\n",
              " 1.7608098983764648,\n",
              " 1.6623947620391846,\n",
              " 1.61448073387146]"
            ]
          },
          "metadata": {},
          "execution_count": 22
        }
      ]
    },
    {
      "cell_type": "code",
      "source": [
        "len(train_loader)"
      ],
      "metadata": {
        "colab": {
          "base_uri": "https://localhost:8080/"
        },
        "id": "m9kmk65yrMC-",
        "outputId": "9fb06de1-a91c-4c33-825a-53e309449c35"
      },
      "execution_count": 23,
      "outputs": [
        {
          "output_type": "execute_result",
          "data": {
            "text/plain": [
              "5000"
            ]
          },
          "metadata": {},
          "execution_count": 23
        }
      ]
    },
    {
      "cell_type": "code",
      "source": [
        "len(test_loader)"
      ],
      "metadata": {
        "id": "x6tEtzBmzmwA",
        "outputId": "74cfef1f-fa70-4211-e668-838609f2320b",
        "colab": {
          "base_uri": "https://localhost:8080/"
        }
      },
      "execution_count": 24,
      "outputs": [
        {
          "output_type": "execute_result",
          "data": {
            "text/plain": [
              "1000"
            ]
          },
          "metadata": {},
          "execution_count": 24
        }
      ]
    },
    {
      "cell_type": "code",
      "source": [
        "\n",
        "new=[t.item() for t in losses]"
      ],
      "metadata": {
        "id": "CFScg22Lz132"
      },
      "execution_count": 25,
      "outputs": []
    },
    {
      "cell_type": "code",
      "source": [
        "plt.plot(new)"
      ],
      "metadata": {
        "id": "gPPLD2XQL14a",
        "outputId": "fe988da0-0677-4d84-e4aa-c1e18ab3d884",
        "colab": {
          "base_uri": "https://localhost:8080/",
          "height": 448
        }
      },
      "execution_count": 26,
      "outputs": [
        {
          "output_type": "execute_result",
          "data": {
            "text/plain": [
              "[<matplotlib.lines.Line2D at 0x7c6325b97610>]"
            ]
          },
          "metadata": {},
          "execution_count": 26
        },
        {
          "output_type": "display_data",
          "data": {
            "text/plain": [
              "<Figure size 640x480 with 1 Axes>"
            ],
            "image/png": "[encoded data removed]"
          },
          "metadata": {}
        }
      ]
    }
  ]
}